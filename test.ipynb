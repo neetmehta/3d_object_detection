{
 "cells": [
  {
   "cell_type": "code",
   "execution_count": 3,
   "metadata": {},
   "outputs": [],
   "source": [
    "import numpy as np\n",
    "import torch\n",
    "import open3d as o3d\n",
    "from lidar_utils.lidar_utils import (read_point_cloud, read_config, filter_point_cloud, visualize_pc, \n",
    "                                    point_cloud_to_tensor, voxelize, read_label, label_2_bb, \n",
    "                                    read_calib_file, visualize_bb, visualize_bb_from_file)\n",
    "\n",
    "idx = 502\n",
    "str_idx = f\"{idx:06}\"\n",
    "config_file = r'E:\\Deep Learning Projects\\3d_object_detection\\voxel_net\\config\\train_config.yaml'\n",
    "training_file_path = rf\"E:\\Deep Learning Projects\\datasets\\training\\velodyne\\{str_idx}.bin\"\n",
    "training_label_path = rf\"E:\\Deep Learning Projects\\datasets\\training\\label_2\\{str_idx}.txt\"\n",
    "training_calib_path = rf\"E:\\Deep Learning Projects\\datasets\\training\\calib\\{str_idx}.txt\"\n",
    "\n",
    "point_cloud = read_point_cloud(training_file_path)\n",
    "cfg = read_config(config_file)\n",
    "point_cloud = filter_point_cloud(cfg, point_cloud)\n",
    "\n",
    "voxel_coords = voxelize(point_cloud, cfg)\n",
    "\n",
    "x_min, x_max = cfg['x_min'], cfg['x_max']\n",
    "y_min, y_max = cfg['y_min'], cfg['y_max']\n",
    "z_min, z_max = cfg['z_min'], cfg['z_max'] \n",
    "vd, vh, vw = cfg['vd'], cfg['vh'], cfg['vw']\n",
    "T = cfg['T']\n",
    "\n",
    "unique_voxel_coords, inverse_index = np.unique(voxel_coords, axis=0, return_inverse=True)\n",
    "K = unique_voxel_coords.shape[0]\n",
    "tensor = np.zeros((K, T, 7))\n",
    "for i in range(len(unique_voxel_coords)):\n",
    "    indices = np.flatnonzero(inverse_index==i)\n",
    "    # print(unique_voxel_coords[i])\n",
    "    row = point_cloud[indices][:T, :]\n",
    "    aug = row[:,:3] - row[:,:3].mean(0)\n",
    "    new_row = np.hstack((row, aug))\n",
    "    tensor[i, :min(T, len(indices)), :] = new_row\n",
    "\n",
    "\n",
    "visualize_bb_from_file(training_file_path, training_label_path, training_calib_path, config_file)"
   ]
  },
  {
   "cell_type": "code",
   "execution_count": null,
   "metadata": {},
   "outputs": [
    {
     "data": {
      "text/plain": [
       "[['Car', 1.6, 1.76, 3.84, -0.37, 1.26, 32.14, -1.58],\n",
       " ['Car', 1.4, 1.64, 3.8, -8.44, 1.56, 9.49, -1.57],\n",
       " ['Car', 1.65, 1.66, 3.96, -7.86, 1.47, 15.59, -1.57],\n",
       " ['Car', 1.48, 1.64, 3.81, -3.65, 1.49, 14.49, -1.56],\n",
       " ['Car', 1.44, 1.71, 3.78, -7.58, 1.4, 22.42, -1.57],\n",
       " ['Car', 1.37, 1.61, 4.21, -3.4, 1.32, 26.88, -1.55],\n",
       " ['Car', 1.45, 1.64, 3.86, -7.73, 1.18, 41.04, -1.57],\n",
       " ['Van', 2.74, 2.09, 5.96, -4.81, 0.99, 59.1, -1.6],\n",
       " ['Car', 1.46, 1.51, 3.83, -12.13, 1.48, 17.34, -1.57]]"
      ]
     },
     "execution_count": 3,
     "metadata": {},
     "output_type": "execute_result"
    }
   ],
   "source": [
    "# _, h, w, l, x, y, z, theta = i\n",
    "read_label(training_label_path)"
   ]
  },
  {
   "cell_type": "code",
   "execution_count": null,
   "metadata": {},
   "outputs": [
    {
     "data": {
      "text/plain": [
       "tensor([[    0,     0,     0,  ..., 10141, 10141, 10141],\n",
       "        [    0,     0,     0,  ...,     0,     0,     0],\n",
       "        [    0,     1,     2,  ...,     0,     1,     2]])"
      ]
     },
     "execution_count": 7,
     "metadata": {},
     "output_type": "execute_result"
    }
   ],
   "source": [
    "def pc_to_tensor(cfg, pc):\n",
    "    x_min = cfg['x_min'] \n",
    "    y_min = cfg['y_min'] \n",
    "    z_min = cfg['z_min']\n",
    "    vd, vh, vw = cfg['vd'], cfg['vh'], cfg['vw']\n",
    "    T = cfg['T']\n",
    "\n",
    "    points, intensities = pc[:, :3], pc[:, 3]\n",
    "    voxel_coords = ((points - np.array([x_min, y_min, z_min]))/np.array([vw, vh, vd])).astype(np.int32)\n",
    "    K = len(np.unique(voxel_coords, axis=0))\n",
    "    tensor = np.zeros((K, T, 7))\n",
    "\n",
    "    unique_voxels, inverse_indices = np.unique(voxel_coords, return_inverse=True, axis=0)\n",
    "\n",
    "    for i in range(len(unique_voxels)):\n",
    "        indices = inverse_indices==i\n",
    "        points = pc[indices]\n",
    "        centroid = np.mean(points[:, :3], axis=0)\n",
    "        augment = points[:, :3] - centroid\n",
    "        points = np.hstack((points, augment))\n",
    "        limit = min(len(points), T)\n",
    "        points = points[:limit, :]\n",
    "        tensor[i, :limit, :] = points\n",
    "\n",
    "    return torch.from_numpy(tensor)\n",
    "\n",
    "array = pc_to_tensor(cfg, pc)\n",
    "\n"
   ]
  }
 ],
 "metadata": {
  "kernelspec": {
   "display_name": "Python 3",
   "language": "python",
   "name": "python3"
  },
  "language_info": {
   "codemirror_mode": {
    "name": "ipython",
    "version": 3
   },
   "file_extension": ".py",
   "mimetype": "text/x-python",
   "name": "python",
   "nbconvert_exporter": "python",
   "pygments_lexer": "ipython3",
   "version": "3.10.8"
  },
  "orig_nbformat": 4
 },
 "nbformat": 4,
 "nbformat_minor": 2
}
